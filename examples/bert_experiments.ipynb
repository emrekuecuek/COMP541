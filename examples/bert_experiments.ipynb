{
 "cells": [
  {
   "cell_type": "code",
   "execution_count": 1,
   "metadata": {},
   "outputs": [
    {
     "name": "stdout",
     "output_type": "stream",
     "text": [
      "10.87536912086468\n"
     ]
    }
   ],
   "source": [
    "using BERT\n",
    "\n",
    "config = BertConfig(128, 30022, 256, 512, 4, 2, 8, 2, 3, Array{Float32}, 0.1, 0.1, \"relu\")\n",
    "\n",
    "model = BertPreTraining(config)\n",
    "\n",
    "x = [213 234 7789; 712 9182 8912; 7812 12 432; 12389 1823 8483] # 4x3\n",
    "segment_ids = [1 1 1;1 2 1;1 2 1;1 1 1]\n",
    "mlm_labels = [-1 234 -1; -1 -1 8912; -1 -1 -1; 12389 -1 -1]\n",
    "nsp_labels = [1, 2, 1]\n",
    "\n",
    "loss = model(x, segment_ids, mlm_labels, nsp_labels)\n",
    "println(loss)"
   ]
  },
  {
   "cell_type": "code",
   "execution_count": 19,
   "metadata": {},
   "outputs": [
    {
     "name": "stderr",
     "output_type": "stream",
     "text": [
      "┌ Info: Precompiling CSV [336ed68f-0bac-5ca0-87d4-7b16caf5d00b]\n",
      "└ @ Base loading.jl:1273\n"
     ]
    }
   ],
   "source": [
    "using BERT\n",
    "using Knet\n",
    "import Base: length, iterate\n",
    "using Random\n",
    "using CSV\n",
    "using PyCall\n",
    "using Dates"
   ]
  },
  {
   "cell_type": "code",
   "execution_count": 16,
   "metadata": {},
   "outputs": [
    {
     "data": {
      "text/plain": [
       "true"
      ]
     },
     "execution_count": 16,
     "metadata": {},
     "output_type": "execute_result"
    }
   ],
   "source": [
    "VOCABFILE = \"../../bert-base-uncased-vocab.txt\"\n",
    "NUM_CLASSES = 2\n",
    "LEARNING_RATE = 2e-5\n",
    "NUM_OF_EPOCHS = 30\n",
    "TRAIN = true"
   ]
  },
  {
   "cell_type": "code",
   "execution_count": 20,
   "metadata": {},
   "outputs": [
    {
     "data": {
      "text/plain": [
       "30522"
      ]
     },
     "execution_count": 20,
     "metadata": {},
     "output_type": "execute_result"
    }
   ],
   "source": [
    "token2int = Dict()\n",
    "f = open(VOCABFILE) do file\n",
    "    lines = readlines(file)\n",
    "    for (i,line) in enumerate(lines)\n",
    "        token2int[line] = i\n",
    "    end\n",
    "end\n",
    "int2token = Dict(value => key for (key, value) in token2int)\n",
    "VOCABSIZE = length(token2int)"
   ]
  },
  {
   "cell_type": "code",
   "execution_count": 21,
   "metadata": {},
   "outputs": [
    {
     "data": {
      "text/plain": [
       "convert_to_int_array (generic function with 1 method)"
      ]
     },
     "execution_count": 21,
     "metadata": {},
     "output_type": "execute_result"
    }
   ],
   "source": [
    "function convert_to_int_array(text, dict; lower_case=true)\n",
    "    tokens = bert_tokenize(text, dict, lower_case=lower_case)\n",
    "    out = Int[]\n",
    "    for token in tokens\n",
    "        if token in keys(dict)\n",
    "            push!(out, dict[token])\n",
    "        else\n",
    "            push!(out, dict[\"[UNK]\"])\n",
    "        end\n",
    "    end\n",
    "    return out\n",
    "end"
   ]
  },
  {
   "cell_type": "code",
   "execution_count": 31,
   "metadata": {},
   "outputs": [
    {
     "data": {
      "text/plain": [
       "\"&\\\\''\""
      ]
     },
     "execution_count": 31,
     "metadata": {},
     "output_type": "execute_result"
    }
   ],
   "source": []
  },
  {
   "cell_type": "code",
   "execution_count": 36,
   "metadata": {},
   "outputs": [
    {
     "data": {
      "text/plain": [
       "read_and_process (generic function with 1 method)"
      ]
     },
     "execution_count": 36,
     "metadata": {},
     "output_type": "execute_result"
    }
   ],
   "source": [
    "function read_and_process(filename, dict; lower_case=true)\n",
    "    data = CSV.File(filename, delim=\"\\t\")\n",
    "    x = Array{Int,1}[]\n",
    "    y = Int8[]\n",
    "    for i in data\n",
    "        push!(x, convert_to_int_array(i.sentence, dict, lower_case=lower_case))\n",
    "        push!(y, Int8(i.label + 1)) # negative 1, positive 2\n",
    "    end\n",
    "    \n",
    "    # Padding to maximum\n",
    "#     max_seq = findmax(length.(x))[1]\n",
    "#     for i in 1:length(x)\n",
    "#         append!(x[i], fill(1, max_seq - length(x[i]))) # 1 is for \"[PAD]\"\n",
    "#     end\n",
    "    \n",
    "    return (x, y)\n",
    "end"
   ]
  },
  {
   "cell_type": "code",
   "execution_count": 37,
   "metadata": {},
   "outputs": [],
   "source": [
    "mutable struct ClassificationData\n",
    "    input_ids\n",
    "    input_mask\n",
    "    segment_ids\n",
    "    labels\n",
    "    batchsize\n",
    "    ninstances\n",
    "    shuffled\n",
    "end"
   ]
  },
  {
   "cell_type": "code",
   "execution_count": 38,
   "metadata": {},
   "outputs": [
    {
     "data": {
      "text/plain": [
       "ClassificationData"
      ]
     },
     "execution_count": 38,
     "metadata": {},
     "output_type": "execute_result"
    }
   ],
   "source": [
    "function ClassificationData(input_file, token2int; batchsize=8, shuffled=true, seq_len=64)\n",
    "    input_ids = []\n",
    "    input_mask = []\n",
    "    segment_ids = []\n",
    "    labels = []\n",
    "    (x, labels) = read_and_process(input_file, token2int)\n",
    "    for i in 1:length(x)\n",
    "        if length(x[i]) >= seq_len\n",
    "            x[i] = x[i][1:seq_len]\n",
    "            mask = Array{Int64}(ones(seq_len))\n",
    "        else\n",
    "            mask = Array{Int64}(ones(length(x[i])))\n",
    "            append!(x[i], fill(1, seq_len - length(x[i]))) # 1 is for \"[PAD]\"\n",
    "            append!(mask, fill(0, seq_len - length(mask))) # 0's vanish with masking operation\n",
    "        end\n",
    "        push!(input_ids, x[i])\n",
    "        push!(input_mask, mask)\n",
    "        push!(segment_ids, Array{Int64}(ones(seq_len)))\n",
    "    end\n",
    "    ninstances = length(input_ids)\n",
    "    return ClassificationData(input_ids, input_mask, segment_ids, labels, batchsize, ninstances, shuffled)\n",
    "end"
   ]
  },
  {
   "cell_type": "code",
   "execution_count": 39,
   "metadata": {},
   "outputs": [
    {
     "data": {
      "text/plain": [
       "length (generic function with 178 methods)"
      ]
     },
     "execution_count": 39,
     "metadata": {},
     "output_type": "execute_result"
    }
   ],
   "source": [
    "function length(d::ClassificationData)\n",
    "    d, r = divrem(d.ninstances, d.batchsize)\n",
    "    return r == 0 ? d : d+1\n",
    "end"
   ]
  },
  {
   "cell_type": "code",
   "execution_count": 40,
   "metadata": {},
   "outputs": [
    {
     "data": {
      "text/plain": [
       "iterate (generic function with 354 methods)"
      ]
     },
     "execution_count": 40,
     "metadata": {},
     "output_type": "execute_result"
    }
   ],
   "source": [
    "function iterate(d::ClassificationData, state=ifelse(d.shuffled, randperm(d.ninstances), 1:d.ninstances))\n",
    "\n",
    "    state === nothing && return nothing\n",
    "\n",
    "    if length(state) > d.batchsize\n",
    "        new_state = state[d.batchsize+1:end]\n",
    "        input_ids = hcat(d.input_ids[state[1:d.batchsize]]...)\n",
    "        input_mask = hcat(d.input_mask[state[1:d.batchsize]]...)\n",
    "        segment_ids = hcat(d.segment_ids[state[1:d.batchsize]]...)\n",
    "        labels = hcat(d.labels[state[1:d.batchsize]]...)\n",
    "    else\n",
    "        new_state = nothing\n",
    "        input_ids = hcat(d.input_ids[state]...)\n",
    "        input_mask = hcat(d.input_mask[state]...)\n",
    "        segment_ids = hcat(d.segment_ids[state]...)\n",
    "        labels = hcat(d.labels[state]...)\n",
    "    end\n",
    "    \n",
    "    return ((input_ids, input_mask, segment_ids, labels), new_state)\n",
    "end"
   ]
  },
  {
   "cell_type": "code",
   "execution_count": 41,
   "metadata": {},
   "outputs": [
    {
     "data": {
      "text/plain": [
       "BertConfig(768, 30522, 3072, 512, 64, 2, 12, 12, 8, KnetArray{Float32,N} where N, 0.1, 0.1, \"gelu\")"
      ]
     },
     "execution_count": 41,
     "metadata": {},
     "output_type": "execute_result"
    }
   ],
   "source": [
    "config = BertConfig(768, 30522, 3072, 512, 64, 2, 12, 12, 8, KnetArray{Float32}, 0.1, 0.1, \"gelu\")"
   ]
  },
  {
   "cell_type": "code",
   "execution_count": 43,
   "metadata": {},
   "outputs": [
    {
     "data": {
      "text/plain": [
       "Dict{Int64,String} with 30522 entries:\n",
       "  15769 => \"stocks\"\n",
       "  13575 => \"prohibition\"\n",
       "  10094 => \"tel\"\n",
       "  30216 => \"##ろ\"\n",
       "  22035 => \"mcgee\"\n",
       "  6265  => \"murray\"\n",
       "  9934  => \"malta\"\n",
       "  21807 => \"##tenberg\"\n",
       "  29201 => \"substitutes\"\n",
       "  8805  => \"quinn\"\n",
       "  1333  => \"य\"\n",
       "  13120 => \"motorway\"\n",
       "  3120  => \"trade\"\n",
       "  9911  => \"##ree\"\n",
       "  11942 => \"mare\"\n",
       "  20368 => \"##ester\"\n",
       "  19698 => \"kellan\"\n",
       "  29981 => \"##თ\"\n",
       "  16429 => \"rd\"\n",
       "  10458 => \"backs\"\n",
       "  25568 => \"luminous\"\n",
       "  7237  => \"categories\"\n",
       "  28907 => \"352\"\n",
       "  25786 => \"##oint\"\n",
       "  29728 => \"##λ\"\n",
       "  ⋮     => ⋮"
      ]
     },
     "execution_count": 43,
     "metadata": {},
     "output_type": "execute_result"
    }
   ],
   "source": [
    "int2token"
   ]
  }
 ],
 "metadata": {
  "kernelspec": {
   "display_name": "Julia 1.3.1",
   "language": "julia",
   "name": "julia-1.3"
  },
  "language_info": {
   "file_extension": ".jl",
   "mimetype": "application/julia",
   "name": "julia",
   "version": "1.3.1"
  }
 },
 "nbformat": 4,
 "nbformat_minor": 2
}
