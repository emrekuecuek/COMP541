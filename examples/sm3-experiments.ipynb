{
 "cells": [
  {
   "cell_type": "code",
   "execution_count": 1,
   "metadata": {},
   "outputs": [],
   "source": [
    "# KnetArray{Float64, 3}(undef, (2,3,4));\n",
    "# a = [KnetArray{Float64,3}(undef,(10, 1, 1)),\n",
    "#     KnetArray{Float64,3}(undef,(1, 784, 1)),\n",
    "#     KnetArray{Float64,3}(undef,(1, 1, 100))\n",
    "#     ];"
   ]
  },
  {
   "cell_type": "code",
   "execution_count": 2,
   "metadata": {},
   "outputs": [],
   "source": [
    "using Knet, LinearAlgebra, AutoGrad\n",
    "using AutoGrad: full\n",
    "using Random\n",
    "Random.seed!(0);"
   ]
  },
  {
   "cell_type": "code",
   "execution_count": 3,
   "metadata": {},
   "outputs": [],
   "source": [
    "mutable struct SM3\n",
    "    lr::AbstractFloat\n",
    "    eps::AbstractFloat\n",
    "    gclip::AbstractFloat\n",
    "    dims\n",
    "#     momentum::AbstractArray{AbstractFloat}\n",
    "    accumulators\n",
    "end"
   ]
  },
  {
   "cell_type": "code",
   "execution_count": 4,
   "metadata": {},
   "outputs": [],
   "source": [
    "SM3(; lr=0.001, eps=1e-30, gclip=0.0) = SM3(lr, eps, gclip, nothing, nothing)\n",
    "sm3(f,d; lr=0.001, eps=1e-30, gclip=0.0,o...) = Knet.minimize(f,d,SM3(lr, eps, gclip, nothing, nothing);o...)\n",
    "sm3!(x...;o...) = for y in sm3(x...;o...); end\n",
    "Knet.clone(a::SM3) = SM3(a.lr, a.eps, a.gclip, nothing, nothing)"
   ]
  },
  {
   "cell_type": "code",
   "execution_count": 5,
   "metadata": {},
   "outputs": [],
   "source": [
    "for T in (Array{Float32},Array{Float64},KnetArray{Float32},KnetArray{Float64}); @eval begin\n",
    "    function Knet.update!(w::$T, g, p::SM3)\n",
    "        Knet.gclip!(g, p.gclip)\n",
    "        g = full(g)\n",
    "        if p.accumulators==nothing; \n",
    "            p.dims=size(w);\n",
    "            p.accumulators=[KnetArray(zeros(Float32, _shape_for_broadcasting(p.dims, i))) for i in 1:length(p.dims)];\n",
    "        end\n",
    "        accumulator = _compute_past_accumulator(p.accumulators, p.dims)\n",
    "        accumulator .+= g.*g\n",
    "        #TODO: Add momentum tensor for scaled gradient\n",
    "        axpy!(-p.lr, g./(sqrt.(accumulator .+ p.eps)), w)\n",
    "        #TODO: Add accumulator updates\n",
    "        p.accumulators = _accumulator_updater(p.accumulators, p.dims, accumulator)\n",
    "    end\n",
    "end;end"
   ]
  },
  {
   "cell_type": "code",
   "execution_count": 6,
   "metadata": {},
   "outputs": [
    {
     "data": {
      "text/plain": [
       "_shape_for_broadcasting (generic function with 1 method)"
      ]
     },
     "execution_count": 6,
     "metadata": {},
     "output_type": "execute_result"
    }
   ],
   "source": [
    "function _shape_for_broadcasting(dims, desired)\n",
    "    rank = length(dims)\n",
    "    return tuple([i==desired ? dims[i] : 1 for i in 1:rank]...)\n",
    "end"
   ]
  },
  {
   "cell_type": "code",
   "execution_count": 7,
   "metadata": {},
   "outputs": [
    {
     "data": {
      "text/plain": [
       "_compute_past_accumulator (generic function with 1 method)"
      ]
     },
     "execution_count": 7,
     "metadata": {},
     "output_type": "execute_result"
    }
   ],
   "source": [
    "function _compute_past_accumulator(accumulators, dims)\n",
    "    rank = length(dims)\n",
    "    accumulators_for_broadcasting = [\n",
    "        reshape(accumulators[i], _shape_for_broadcasting(dims, i))\n",
    "        for i in 1:rank]\n",
    "    \n",
    "    result = accumulators_for_broadcasting[1]\n",
    "#     return result\n",
    "    # Check if min is doing for number of elmns.\n",
    "    for i in 1:rank\n",
    "        result = min.(result, accumulators_for_broadcasting[i])\n",
    "    end\n",
    "    return result\n",
    "    \n",
    "end"
   ]
  },
  {
   "cell_type": "code",
   "execution_count": 8,
   "metadata": {},
   "outputs": [
    {
     "data": {
      "text/plain": [
       "_accumulator_updater (generic function with 1 method)"
      ]
     },
     "execution_count": 8,
     "metadata": {},
     "output_type": "execute_result"
    }
   ],
   "source": [
    "function _accumulator_updater(accumulators, dims, update_tensor)\n",
    "    rank = length(dims)\n",
    "    for i in 1:rank\n",
    "        max_dims = []\n",
    "#       max_dims = [i!=j ? j : for j in 1:rank]\n",
    "#       TODO: Make this by array comprehension.\n",
    "        for j in 1:rank\n",
    "            if i!=j\n",
    "                append!(max_dims, j)\n",
    "            end\n",
    "        end\n",
    "        accumulators[i] = max.(accumulators[i], maximum(update_tensor, dims=tuple(max_dims...)))\n",
    "    end\n",
    "    return accumulators\n",
    "end"
   ]
  },
  {
   "cell_type": "code",
   "execution_count": 9,
   "metadata": {},
   "outputs": [],
   "source": [
    "# a = [KnetArray{Float64,3}(undef,(10, 1, 1)),\n",
    "#     KnetArray{Float64,3}(undef,(1, 784, 1)),\n",
    "#     KnetArray{Float64,3}(undef,(1, 1, 100))\n",
    "#     ];\n",
    "# b = [10, 784, 100];\n",
    "# c = rand(Float64, (10,784,100));\n",
    "# _compute_past_accumulator(a, b)"
   ]
  },
  {
   "cell_type": "code",
   "execution_count": 10,
   "metadata": {},
   "outputs": [],
   "source": [
    "# Setup display width, load packages, import symbols\n",
    "ENV[\"COLUMNS\"]=72\n",
    "using Pkg; for p in (\"Knet\",\"IterTools\",\"Plots\"); haskey(Pkg.installed(),p) || Pkg.add(p); end\n",
    "using Base.Iterators: flatten\n",
    "using IterTools: ncycle, takenth\n",
    "using Statistics: mean\n",
    "using Knet: Knet, conv4, pool, mat, KnetArray, nll, zeroone, progress, sgd, param, param0, dropout, relu, Data, gpu"
   ]
  },
  {
   "cell_type": "code",
   "execution_count": 11,
   "metadata": {},
   "outputs": [
    {
     "name": "stderr",
     "output_type": "stream",
     "text": [
      "┌ Info: Loading MNIST...\n",
      "└ @ Main /kuacc/users/ekucuk19/.julia/packages/Knet/bTNMd/data/mnist.jl:33\n"
     ]
    }
   ],
   "source": [
    "# Load data (see mnist.ipynb)\n",
    "include(Knet.dir(\"data\",\"mnist.jl\"))  # Load data\n",
    "dtrn,dtst = mnistdata();              # dtrn and dtst = [ (x1,y1), (x2,y2), ... ] where xi,yi are minibatches of 100"
   ]
  },
  {
   "cell_type": "code",
   "execution_count": 12,
   "metadata": {},
   "outputs": [
    {
     "data": {
      "text/plain": [
       "trainresults (generic function with 1 method)"
      ]
     },
     "execution_count": 12,
     "metadata": {},
     "output_type": "execute_result"
    }
   ],
   "source": [
    "# For running experiments\n",
    "function trainresults(file,model; o...)\n",
    "    if (print(\"Train from scratch? \"); readline()[1]=='y')\n",
    "        r = ((model(dtrn), model(dtst), zeroone(model,dtrn), zeroone(model,dtst))\n",
    "             for x in takenth(progress(sm3(model,ncycle(dtrn,100))),length(dtrn)))\n",
    "        r = reshape(collect(Float32,flatten(r)),(4,:))\n",
    "        Knet.save(file,\"results\",r)\n",
    "        Knet.gc() # To save gpu memory\n",
    "    else\n",
    "        isfile(file) || download(\"http://people.csail.mit.edu/deniz/models/tutorial/$file\",file)\n",
    "        r = Knet.load(file,\"results\")\n",
    "    end\n",
    "    println(minimum(r,dims=2))\n",
    "    return r\n",
    "end"
   ]
  },
  {
   "cell_type": "code",
   "execution_count": 13,
   "metadata": {},
   "outputs": [
    {
     "data": {
      "text/plain": [
       "Conv"
      ]
     },
     "execution_count": 13,
     "metadata": {},
     "output_type": "execute_result"
    }
   ],
   "source": [
    "# Define a convolutional layer:\n",
    "struct Conv; w; b; f; p; end\n",
    "(c::Conv)(x) = c.f.(pool(conv4(c.w, dropout(x,c.p)) .+ c.b))\n",
    "Conv(w1::Int,w2::Int,cx::Int,cy::Int,f=relu;pdrop=0) = Conv(param(w1,w2,cx,cy), param0(1,1,cy,1), f, pdrop)"
   ]
  },
  {
   "cell_type": "code",
   "execution_count": 14,
   "metadata": {},
   "outputs": [
    {
     "data": {
      "text/plain": [
       "Dense"
      ]
     },
     "execution_count": 14,
     "metadata": {},
     "output_type": "execute_result"
    }
   ],
   "source": [
    "# Redefine dense layer (See mlp.ipynb):\n",
    "struct Dense; w; b; f; p; end\n",
    "(d::Dense)(x) = d.f.(d.w * mat(dropout(x,d.p)) .+ d.b) # mat reshapes 4-D tensor to 2-D matrix so we can use matmul\n",
    "Dense(i::Int,o::Int,f=relu;pdrop=0) = Dense(param(o,i), param0(o), f, pdrop)"
   ]
  },
  {
   "cell_type": "code",
   "execution_count": 15,
   "metadata": {},
   "outputs": [],
   "source": [
    "# Let's define a chain of layers\n",
    "struct Chain\n",
    "    layers\n",
    "    Chain(layers...) = new(layers)\n",
    "end\n",
    "(c::Chain)(x) = (for l in c.layers; x = l(x); end; x)\n",
    "(c::Chain)(x,y) = nll(c(x),y)\n",
    "(c::Chain)(d::Data) = mean(c(x,y) for (x,y) in d)"
   ]
  },
  {
   "cell_type": "code",
   "execution_count": 16,
   "metadata": {},
   "outputs": [
    {
     "data": {
      "text/plain": [
       "4-element Array{String,1}:\n",
       " \"5×5×1×20 Param{KnetArray{Float32,4}}\" \n",
       " \"5×5×20×50 Param{KnetArray{Float32,4}}\"\n",
       " \"500×800 Param{KnetArray{Float32,2}}\"  \n",
       " \"10×500 Param{KnetArray{Float32,2}}\"   "
      ]
     },
     "execution_count": 16,
     "metadata": {},
     "output_type": "execute_result"
    }
   ],
   "source": [
    "lenet =   Chain(Conv(5,5,1,20), \n",
    "                Conv(5,5,20,50), \n",
    "                Dense(800,500,pdrop=0.3), \n",
    "                Dense(500,10,identity,pdrop=0.3))\n",
    "summary.(l.w for l in lenet.layers)"
   ]
  },
  {
   "cell_type": "code",
   "execution_count": 17,
   "metadata": {},
   "outputs": [
    {
     "name": "stdout",
     "output_type": "stream",
     "text": [
      "Train from scratch? stdin> y\n"
     ]
    },
    {
     "name": "stderr",
     "output_type": "stream",
     "text": [
      "┣████████████████████┫ [100.00%, 60000/60000, 04:21/04:21, 230.03i/s] \n"
     ]
    },
    {
     "name": "stdout",
     "output_type": "stream",
     "text": [
      "Float32[0.079375535; 0.07033771; 0.02385; 0.0215]\n"
     ]
    }
   ],
   "source": [
    "sm3_results = trainresults(\"sm3113.jld2\",lenet);\n",
    "# sm3_results = Knet.load(\"sm3113.jld2\", \"results\");"
   ]
  },
  {
   "cell_type": "code",
   "execution_count": 20,
   "metadata": {},
   "outputs": [
    {
     "name": "stdout",
     "output_type": "stream",
     "text": [
      "Train from scratch? stdin> y\n"
     ]
    },
    {
     "name": "stderr",
     "output_type": "stream",
     "text": [
      "┣████████████████████┫ [100.00%, 60000/60000, 04:14/04:14, 236.05i/s] \n"
     ]
    },
    {
     "name": "stdout",
     "output_type": "stream",
     "text": [
      "Float32[0.06072745; 0.053941607; 0.018333333; 0.0173]\n"
     ]
    }
   ],
   "source": [
    "sgd_results = trainresults(\"sgd113.jld2\", lenet);\n",
    "# sgd_results = Knet.load(\"sgd113.jld2\", \"results\")"
   ]
  },
  {
   "cell_type": "code",
   "execution_count": 21,
   "metadata": {},
   "outputs": [],
   "source": [
    "using Plots; default(fmt=:png,ls=:auto)"
   ]
  },
  {
   "cell_type": "code",
   "execution_count": 22,
   "metadata": {},
   "outputs": [
    {
     "data": {
      "image/png": "[encoded data removed]"
     },
     "execution_count": 22,
     "metadata": {},
     "output_type": "execute_result"
    }
   ],
   "source": [
    "plot([sm3_results[1,:], sm3_results[2,:], sgd_results[1,:], sgd_results[2,:]],ylim=(0.0,0.5),\n",
    "     labels=[:trnSM3 :tstSM3 :trnSGD :tstSGD],xlabel=\"Epochs\",ylabel=\"Loss\")"
   ]
  },
  {
   "cell_type": "code",
   "execution_count": null,
   "metadata": {},
   "outputs": [],
   "source": []
  }
 ],
 "metadata": {
  "kernelspec": {
   "display_name": "Julia 1.3.1",
   "language": "julia",
   "name": "julia-1.3"
  },
  "language_info": {
   "file_extension": ".jl",
   "mimetype": "application/julia",
   "name": "julia",
   "version": "1.3.1"
  }
 },
 "nbformat": 4,
 "nbformat_minor": 2
}
